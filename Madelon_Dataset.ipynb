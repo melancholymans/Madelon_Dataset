{
  "nbformat": 4,
  "nbformat_minor": 0,
  "metadata": {
    "colab": {
      "name": "Madelon_Dataset.ipynb",
      "version": "0.3.2",
      "provenance": [],
      "include_colab_link": true
    },
    "kernelspec": {
      "name": "python3",
      "display_name": "Python 3"
    }
  },
  "cells": [
    {
      "cell_type": "markdown",
      "metadata": {
        "id": "view-in-github",
        "colab_type": "text"
      },
      "source": [
        "<a href=\"https://colab.research.google.com/github/melancholymans/Madelon_Dataset/blob/master/Madelon_Dataset.ipynb\" target=\"_parent\"><img src=\"https://colab.research.google.com/assets/colab-badge.svg\" alt=\"Open In Colab\"/></a>"
      ]
    },
    {
      "cell_type": "markdown",
      "metadata": {
        "id": "SZ7a4D8ZrhVm",
        "colab_type": "text"
      },
      "source": [
        "このプログを読んで「ランダムフォレストと検定を用いた特徴量選択手法 Boruta」を試してみる  \n",
        "https://aotamasaki.hatenablog.com/entry/2019/01/05/195813  \n",
        "データはここからもらった  \n",
        "http://archive.ics.uci.edu/ml/datasets/madelon  \n",
        "\n",
        "madelon_param データファイルの概要  \n",
        "madelon_train.data 2000行×特徴量500のデータファイル  \n",
        "madelon_test.data 1800行×特徴量500のデータファイル  \n",
        "madelon_train.labels 2000行×ラベル1のデータファイル  1か-1で構成  \n",
        "madelon_valid.data 600行×特徴量500のデータファイル   \n",
        "madelon_valid.label 600行×ラベル1のデータファイル  1か-1で構成  \n"
      ]
    },
    {
      "cell_type": "code",
      "metadata": {
        "id": "j_245vcEtNyu",
        "colab_type": "code",
        "colab": {
          "base_uri": "https://localhost:8080/",
          "height": 122
        },
        "outputId": "f3f2371e-ddb5-4049-c567-bc938a9eb56e"
      },
      "source": [
        "from google.colab import drive\n",
        "drive.mount('/content/drive')"
      ],
      "execution_count": 1,
      "outputs": [
        {
          "output_type": "stream",
          "text": [
            "Go to this URL in a browser: https://accounts.google.com/o/oauth2/auth?client_id=947318989803-6bn6qk8qdgf4n4g3pfee6491hc0brc4i.apps.googleusercontent.com&redirect_uri=urn%3Aietf%3Awg%3Aoauth%3A2.0%3Aoob&scope=email%20https%3A%2F%2Fwww.googleapis.com%2Fauth%2Fdocs.test%20https%3A%2F%2Fwww.googleapis.com%2Fauth%2Fdrive%20https%3A%2F%2Fwww.googleapis.com%2Fauth%2Fdrive.photos.readonly%20https%3A%2F%2Fwww.googleapis.com%2Fauth%2Fpeopleapi.readonly&response_type=code\n",
            "\n",
            "Enter your authorization code:\n",
            "··········\n",
            "Mounted at /content/drive\n"
          ],
          "name": "stdout"
        }
      ]
    },
    {
      "cell_type": "code",
      "metadata": {
        "id": "vpNq7u26rLqk",
        "colab_type": "code",
        "colab": {}
      },
      "source": [
        "base_path = 'drive/My Drive/Colab Notebooks/kaggle/Madelon_Dataset/input/'"
      ],
      "execution_count": 0,
      "outputs": []
    },
    {
      "cell_type": "code",
      "metadata": {
        "id": "_cfEZRisu6YK",
        "colab_type": "code",
        "colab": {
          "base_uri": "https://localhost:8080/",
          "height": 646
        },
        "outputId": "888d34a8-4b11-43e3-c97c-43df0dbdc8b7"
      },
      "source": [
        "import numpy as np\n",
        "import pandas as pd\n",
        "\n",
        "X = pd.read_csv(base_path+'madelon_train.data',header=None,sep=' ')\n",
        "X = X.iloc[:,0:-1] # 最終列が欠損値なのでカット\n",
        "print(X.head())\n",
        "print(X.shape)\n",
        "print(X.describe())\n",
        "print('-'*50)\n",
        "y = pd.read_csv(base_path+'madelon_train.labels',header=None,sep=' ')\n",
        "print(y.head())\n",
        "print(y.shape)\n",
        "print(y.describe())"
      ],
      "execution_count": 23,
      "outputs": [
        {
          "output_type": "stream",
          "text": [
            "   0    1    2    3    4    5    6    ...  493  494  495  496  497  498  499\n",
            "0  485  477  537  479  452  471  491  ...  485  511  485  481  479  475  496\n",
            "1  483  458  460  487  587  475  526  ...  338  513  486  483  492  510  517\n",
            "2  487  542  499  468  448  471  442  ...  650  506  501  480  489  499  498\n",
            "3  480  491  510  485  495  472  417  ...  572  454  469  475  482  494  461\n",
            "4  484  502  528  489  466  481  402  ...  435  486  508  481  504  495  511\n",
            "\n",
            "[5 rows x 500 columns]\n",
            "(2000, 500)\n",
            "               0            1    ...          498          499\n",
            "count  2000.000000  2000.000000  ...  2000.000000  2000.000000\n",
            "mean    481.722500   483.452500  ...   507.977000   490.266000\n",
            "std       6.421769    30.186294  ...    37.224297    25.825273\n",
            "min     462.000000   381.000000  ...   363.000000   403.000000\n",
            "25%     477.000000   464.000000  ...   482.000000   473.000000\n",
            "50%     482.000000   483.000000  ...   508.000000   490.000000\n",
            "75%     486.000000   503.000000  ...   533.000000   507.250000\n",
            "max     503.000000   600.000000  ...   644.000000   583.000000\n",
            "\n",
            "[8 rows x 500 columns]\n",
            "-------------------------\n",
            "   0\n",
            "0 -1\n",
            "1 -1\n",
            "2 -1\n",
            "3  1\n",
            "4  1\n",
            "(2000, 1)\n",
            "                0\n",
            "count  2000.00000\n",
            "mean      0.00000\n",
            "std       1.00025\n",
            "min      -1.00000\n",
            "25%      -1.00000\n",
            "50%       0.00000\n",
            "75%       1.00000\n",
            "max       1.00000\n"
          ],
          "name": "stdout"
        }
      ]
    },
    {
      "cell_type": "code",
      "metadata": {
        "id": "F2R9Z1L_tee1",
        "colab_type": "code",
        "colab": {}
      },
      "source": [
        "# train labelsデータを訓練用と検証用に分ける\n",
        "from sklearn.model_selection import train_test_split\n",
        "from sklearn.ensemble import RandomForestClassifier\n",
        "from sklearn.metrics import confusion_matrix\n",
        "from multiprocessing import cpu_count\n",
        "\n",
        "X_train,X_test,y_train,y_test = train_test_split(X,y,random_state=0,test_size=0.25)"
      ],
      "execution_count": 0,
      "outputs": []
    },
    {
      "cell_type": "code",
      "metadata": {
        "id": "X6YprJqT6ELJ",
        "colab_type": "code",
        "colab": {
          "base_uri": "https://localhost:8080/",
          "height": 122
        },
        "outputId": "ef3fd1e8-47f4-4aa7-a1a7-555f6143c76f"
      },
      "source": [
        "rf = RandomForestClassifier(\n",
        "    n_estimators=500,\n",
        "    random_state=42,\n",
        "    n_jobs=int(cpu_count()/2)\n",
        ")\n",
        "rf.fit(X_train.values,y_train.values)\n",
        "print(rf.classes_)\n",
        "print(confusion_matrix(y_test.values,rf.predict(X_test.values),labels=rf.classes_))\n"
      ],
      "execution_count": 31,
      "outputs": [
        {
          "output_type": "stream",
          "text": [
            "/usr/local/lib/python3.6/dist-packages/ipykernel_launcher.py:6: DataConversionWarning: A column-vector y was passed when a 1d array was expected. Please change the shape of y to (n_samples,), for example using ravel().\n",
            "  \n"
          ],
          "name": "stderr"
        },
        {
          "output_type": "stream",
          "text": [
            "[-1  1]\n",
            "[[167  82]\n",
            " [ 71 180]]\n"
          ],
          "name": "stdout"
        }
      ]
    },
    {
      "cell_type": "markdown",
      "metadata": {
        "id": "5psDuEdI9RWE",
        "colab_type": "text"
      },
      "source": [
        "# Borutaの判別"
      ]
    },
    {
      "cell_type": "code",
      "metadata": {
        "id": "kYf-0z5y9RER",
        "colab_type": "code",
        "colab": {}
      },
      "source": [
        ""
      ],
      "execution_count": 0,
      "outputs": []
    },
    {
      "cell_type": "code",
      "metadata": {
        "id": "DkreMSNn7wU9",
        "colab_type": "code",
        "colab": {}
      },
      "source": [
        ""
      ],
      "execution_count": 0,
      "outputs": []
    }
  ]
}